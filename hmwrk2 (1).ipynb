{
 "cells": [
  {
   "cell_type": "code",
   "execution_count": 2,
   "metadata": {},
   "outputs": [
    {
     "name": "stdout",
     "output_type": "stream",
     "text": [
      "[[0.09823476 0.09771877 0.64142684]\n",
      " [0.8897532  0.95964368 0.16722537]\n",
      " [0.16286574 0.00969073 0.03779573]\n",
      " [0.83465119 0.45346859 0.71355264]\n",
      " [0.75286993 0.55494167 0.25061385]\n",
      " [0.64986515 0.2721389  0.79281493]\n",
      " [0.5030027  0.16085242 0.68125346]\n",
      " [0.04874072 0.13034942 0.93413548]\n",
      " [0.41450414 0.55593298 0.28456178]\n",
      " [0.9254689  0.31656486 0.77445223]]\n",
      "[0.64142684 0.16722537 0.16286574 0.45346859 0.55494167 0.64986515\n",
      " 0.5030027  0.13034942 0.55593298 0.31656486]\n"
     ]
    }
   ],
   "source": [
    "import numpy as np\n",
    "matr1 = np.random.random((10, 3))\n",
    "itog = matr1[np.arange(10), np.abs(matr1 - .5).argmin(axis=1)]\n",
    "print(matr1)\n",
    "print(itog)"
   ]
  },
  {
   "cell_type": "code",
   "execution_count": 3,
   "metadata": {},
   "outputs": [
    {
     "name": "stdout",
     "output_type": "stream",
     "text": [
      "[[0.58395622 0.59576339 0.02061378 0.1515303  0.60837199 0.41779914]\n",
      " [0.15641218 0.63724584 0.22474994 0.3049747  0.51944334 0.17528793]\n",
      " [0.2170962  0.27765758 0.83318243 0.44318497 0.14448439 0.0437498 ]\n",
      " [0.44878661 0.63048472 0.01696689 0.70342767 0.91611951 0.67292024]\n",
      " [0.96632442 0.17721335 0.56997179 0.77162421 0.98052635 0.11061928]\n",
      " [0.94757625 0.93577679 0.96273622 0.03986981 0.48781846 0.54651398]]\n",
      "[ 15.20364237  11.38804682 115.48109271  84.99428198  24.75201173\n",
      "  89.60706416]\n"
     ]
    }
   ],
   "source": [
    "matr = np.random.random((6, 6))\n",
    "summa = matr.sum(axis=1)\n",
    "minimal = matr.min(axis=0)\n",
    "itog = summa / minimal\n",
    "print(matr)\n",
    "print(itog)"
   ]
  },
  {
   "cell_type": "code",
   "execution_count": 4,
   "metadata": {},
   "outputs": [
    {
     "name": "stdout",
     "output_type": "stream",
     "text": [
      "5\n"
     ]
    }
   ],
   "source": [
    "x = np.array([6, 2, 0, 3, 0, 0, 5, 7, 0])\n",
    "after0 = x[np.where(x[:-1] == 0)[0] + 1].max()\n",
    "print(after0)"
   ]
  },
  {
   "cell_type": "code",
   "execution_count": 5,
   "metadata": {},
   "outputs": [
    {
     "name": "stdout",
     "output_type": "stream",
     "text": [
      "[1. 1. 1. 1. 1. 1. 1. 1. 1. 1.]\n",
      "[2. 2. 2. 2. 1. 4. 1. 1. 2. 1.]\n"
     ]
    }
   ],
   "source": [
    "x = np.ones(10)\n",
    "i = np.array([0, 1, 2, 3, 5, 5, 5, 8])\n",
    "print(x)\n",
    "np.add.at(x, i, 1)\n",
    "print(x)"
   ]
  },
  {
   "cell_type": "code",
   "execution_count": 6,
   "metadata": {},
   "outputs": [
    {
     "name": "stdout",
     "output_type": "stream",
     "text": [
      "N = 4\n",
      "[[ 0  1  2  3]\n",
      " [ 4  5  6  7]\n",
      " [ 8  9 10 11]\n",
      " [12 13 14 15]]\n",
      "{0: [0], 1: [1, 4], 2: [2, 5, 8], 3: [3, 6, 9, 12], 4: [7, 10, 13], 5: [11, 14], 6: [15]}\n"
     ]
    }
   ],
   "source": [
    "a = np.arange(16).reshape(4, 4)\n",
    "size = a.shape[0]\n",
    "print(\"N =\", size)\n",
    "dictionary = {i: [a[j, i - j] for j in range(i + 1) if j < size and i - j < size] \n",
    "        for i in range(size * 2 - 1)}\n",
    "print(a)\n",
    "print(dictionary)"
   ]
  },
  {
   "cell_type": "code",
   "execution_count": 9,
   "metadata": {},
   "outputs": [
    {
     "data": {
      "image/png": "[encoded data removed]",
      "text/plain": [
       "<Figure size 432x288 with 1 Axes>"
      ]
     },
     "metadata": {
      "needs_background": "light"
     },
     "output_type": "display_data"
    }
   ],
   "source": [
    "import numpy as np\n",
    "import scipy.cluster\n",
    "import matplotlib.pyplot as plt\n",
    "    \n",
    "    \n",
    "data = np.loadtxt('data.txt', skiprows=1)[:, 1:]\n",
    "data = (data - data.mean(axis=0)) / data.std(axis=0)\n",
    "\n",
    "def get_labels(pts, centroids):\n",
    "    \n",
    "    dist = np.hstack([np.linalg.norm(pts - centroid, axis=1).reshape(-1, 1) for centroid in centroids])\n",
    "    return np.argmin(dist, axis=1)\n",
    "\n",
    "def normtotal(obs, centroids, labels):\n",
    "    temp = 0\n",
    "    for i in range(centroids.shape[0]):\n",
    "        temp += abs(np.linalg.norm(obs[i==labels] - centroids[i], axis = 1).sum())\n",
    "    return temp\n",
    "def kmeans(obs, k_or_guess, iter = 20, thresh = 1e-05):\n",
    "    centroids = np.random.random((k_or_guess, obs.shape[1]))\n",
    "    labels = get_labels(obs, centroids)\n",
    "    norminitial = normtotal(obs, centroids, labels)\n",
    "    minnorm = norminitial\n",
    "    newcetroids = centroids\n",
    "    \n",
    "    for i in range(iter):\n",
    "        normstop = norminitial\n",
    "        centroids = np.array([obs[labels == i].mean(axis = 0) for i in range (k_or_guess)])\n",
    "        labels = get_labels(obs, centroids)\n",
    "        norminitial = normtotal(obs, centroids, labels)\n",
    "        if norminitial < minnorm:\n",
    "            newcetroids = centroids\n",
    "            minnorm = norminitial\n",
    "        if abs(norminitial - normstop) < thresh: \n",
    "            break\n",
    "            \n",
    "    return newcetroids\n",
    "centroids = kmeans(data, 2)\n",
    "labels = get_labels(data, centroids)\n",
    "plt.scatter(*data.T, c=np.where(labels, \"aquamarine\",\"lightpink\"), s=20)\n",
    "plt.scatter(*centroids.T, c=[\"deeppink\", \"darkturquoise\"], s=95, marker='*')\n",
    "plt.title('Clasters')\n",
    "plt.show()"
   ]
  },
  {
   "cell_type": "code",
   "execution_count": null,
   "metadata": {},
   "outputs": [],
   "source": []
  },
  {
   "cell_type": "code",
   "execution_count": null,
   "metadata": {},
   "outputs": [],
   "source": [
    "\n"
   ]
  },
  {
   "cell_type": "code",
   "execution_count": null,
   "metadata": {},
   "outputs": [],
   "source": []
  },
  {
   "cell_type": "code",
   "execution_count": null,
   "metadata": {},
   "outputs": [],
   "source": []
  },
  {
   "cell_type": "code",
   "execution_count": null,
   "metadata": {},
   "outputs": [],
   "source": []
  },
  {
   "cell_type": "code",
   "execution_count": null,
   "metadata": {},
   "outputs": [],
   "source": [
    "\n",
    "\n",
    "\n"
   ]
  },
  {
   "cell_type": "code",
   "execution_count": null,
   "metadata": {},
   "outputs": [],
   "source": []
  },
  {
   "cell_type": "code",
   "execution_count": null,
   "metadata": {},
   "outputs": [],
   "source": []
  },
  {
   "cell_type": "code",
   "execution_count": null,
   "metadata": {},
   "outputs": [],
   "source": []
  }
 ],
 "metadata": {
  "kernelspec": {
   "display_name": "Python 3",
   "language": "python",
   "name": "python3"
  },
  "language_info": {
   "codemirror_mode": {
    "name": "ipython",
    "version": 3
   },
   "file_extension": ".py",
   "mimetype": "text/x-python",
   "name": "python",
   "nbconvert_exporter": "python",
   "pygments_lexer": "ipython3",
   "version": "3.7.3"
  }
 },
 "nbformat": 4,
 "nbformat_minor": 2
}
