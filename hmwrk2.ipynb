{
 "cells": [
  {
   "cell_type": "code",
   "execution_count": 1,
   "metadata": {},
   "outputs": [
    {
     "name": "stdout",
     "output_type": "stream",
     "text": [
      "[[0.5418263  0.85744715 0.23671222]\n",
      " [0.42215239 0.56500297 0.8587545 ]\n",
      " [0.5187421  0.33514584 0.11477526]\n",
      " [0.49893042 0.41702171 0.29514637]\n",
      " [0.40209824 0.217911   0.8863483 ]\n",
      " [0.21802207 0.52521821 0.1874587 ]\n",
      " [0.44432467 0.52179368 0.97014468]\n",
      " [0.96767654 0.37553754 0.55288556]\n",
      " [0.77802947 0.28852618 0.53362082]\n",
      " [0.8153435  0.83691994 0.75894582]]\n",
      "[0.5418263  0.56500297 0.5187421  0.49893042 0.40209824 0.52521821\n",
      " 0.52179368 0.55288556 0.53362082 0.75894582]\n"
     ]
    }
   ],
   "source": [
    "import numpy as np\n",
    "matr1 = np.random.random((10, 3))\n",
    "itog = matr1[np.arange(10), np.abs(matr1 - .5).argmin(axis=1)]\n",
    "print(matr1)\n",
    "print(itog)"
   ]
  },
  {
   "cell_type": "code",
   "execution_count": null,
   "metadata": {},
   "outputs": [],
   "source": [
    "matr = np.random.random((6, 6))\n",
    "summa = matr.sum(axis=1)\n",
    "minimal = matr.min(axis=0)\n",
    "itog = summa / minimal\n",
    "print(matr)\n",
    "print(itog)"
   ]
  },
  {
   "cell_type": "code",
   "execution_count": null,
   "metadata": {},
   "outputs": [],
   "source": [
    "x = np.array([6, 2, 0, 3, 0, 0, 5, 7, 0])\n",
    "after0 = x[np.where(x[:-1] == 0)[0] + 1].max()\n",
    "print(after0)"
   ]
  },
  {
   "cell_type": "code",
   "execution_count": null,
   "metadata": {},
   "outputs": [],
   "source": [
    "x = np.ones(10)\n",
    "i = np.array([0, 1, 2, 3, 5, 5, 5, 8])\n",
    "print(x)\n",
    "np.add.at(x, i, 1)\n",
    "print(x)"
   ]
  },
  {
   "cell_type": "code",
   "execution_count": null,
   "metadata": {},
   "outputs": [],
   "source": [
    "a = np.arange(16).reshape(4, 4)\n",
    "size = a.shape[0]\n",
    "print(\"N =\", size)\n",
    "dictionary = {i: [a[j, i - j] for j in range(i + 1) if j < size and i - j < size] \n",
    "        for i in range(size * 2 - 1)}\n",
    "print(a)\n",
    "print(dictionary)"
   ]
  },
  {
   "cell_type": "code",
   "execution_count": 2,
   "metadata": {},
   "outputs": [],
   "source": []
  },
  {
   "cell_type": "code",
   "execution_count": null,
   "metadata": {},
   "outputs": [],
   "source": []
  },
  {
   "cell_type": "code",
   "execution_count": null,
   "metadata": {},
   "outputs": [],
   "source": [
    "\n"
   ]
  },
  {
   "cell_type": "code",
   "execution_count": null,
   "metadata": {},
   "outputs": [],
   "source": []
  },
  {
   "cell_type": "code",
   "execution_count": null,
   "metadata": {},
   "outputs": [],
   "source": []
  },
  {
   "cell_type": "code",
   "execution_count": null,
   "metadata": {},
   "outputs": [],
   "source": []
  },
  {
   "cell_type": "code",
   "execution_count": null,
   "metadata": {},
   "outputs": [],
   "source": [
    "\n",
    "\n",
    "\n"
   ]
  },
  {
   "cell_type": "code",
   "execution_count": null,
   "metadata": {},
   "outputs": [],
   "source": []
  },
  {
   "cell_type": "code",
   "execution_count": null,
   "metadata": {},
   "outputs": [],
   "source": []
  },
  {
   "cell_type": "code",
   "execution_count": null,
   "metadata": {},
   "outputs": [],
   "source": []
  }
 ],
 "metadata": {
  "kernelspec": {
   "display_name": "Python 3",
   "language": "python",
   "name": "python3"
  },
  "language_info": {
   "codemirror_mode": {
    "name": "ipython",
    "version": 3
   },
   "file_extension": ".py",
   "mimetype": "text/x-python",
   "name": "python",
   "nbconvert_exporter": "python",
   "pygments_lexer": "ipython3",
   "version": "3.7.3"
  }
 },
 "nbformat": 4,
 "nbformat_minor": 2
}
