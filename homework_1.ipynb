{
 "cells": [
  {
   "cell_type": "code",
   "execution_count": null,
   "metadata": {},
   "outputs": [],
   "source": [
    "def IntOrNot(n):\n",
    "    return int(n) == float(n)\n",
    "\n",
    "number=0\n",
    "print(\"Введите ваше число\")\n",
    "number=int(input())\n",
    "divided=0\n",
    "divisors=[]\n",
    "for i in range(1, number+1):\n",
    "    if(i!=0):\n",
    "        divided=number/i\n",
    "    if(IntOrNot(divided)==True):\n",
    "        divisors.append(i)\n",
    "print(divisors)"
   ]
  },
  {
   "cell_type": "code",
   "execution_count": null,
   "metadata": {},
   "outputs": [],
   "source": [
    "def Backwards(stringg):\n",
    "    n=len(stringg)\n",
    "    stringback=''\n",
    "    for i in range(1,n+1):\n",
    "        stringback+=stringg[n-i]\n",
    "    return stringback\n",
    "    \n",
    "\n",
    "print(\"Введите строку \")\n",
    "stringg = str(input())\n",
    "string2 = Backwards(stringg)\n",
    "print(string2)\n",
    "if(stringg==string2):\n",
    "    print(\"Это палиндром\")\n",
    "if(stringg!=string2):\n",
    "    print(\"Это не палиндром\")\n"
   ]
  },
  {
   "cell_type": "code",
   "execution_count": null,
   "metadata": {},
   "outputs": [],
   "source": [
    "def IntOrNot(n):\n",
    "    return int(n) == float(n)\n",
    "\n",
    "flag=1\n",
    "array=[]\n",
    "while(flag==1):\n",
    "    print(\"Хотите ли вы добавить элемент?\")\n",
    "    decision=int(input())\n",
    "    if(decision==1):\n",
    "        elem=int(input())\n",
    "        array.append(elem)\n",
    "    else:\n",
    "        flag=0\n",
    "print(array)\n",
    "n=len(array)\n",
    "even=[]\n",
    "for i in range(n):\n",
    "    if(IntOrNot(array[i]/2)==True):\n",
    "        even.append(array[i])\n",
    "print(even)"
   ]
  },
  {
   "cell_type": "code",
   "execution_count": null,
   "metadata": {},
   "outputs": [],
   "source": [
    "import random\n",
    "\n",
    "number=0\n",
    "array=[]\n",
    "print(\"Сколько элементов вы хотите добавить?\")\n",
    "number=int(input())\n",
    "for i in range(number):\n",
    "    random_numb=random.randint(0,100)\n",
    "    array.append(random_numb)\n",
    "print(array)\n",
    "\n",
    "maxnum=0\n",
    "print(\"Каким может быть максимальное число?\")\n",
    "maxnum=int(input())\n",
    "\n",
    "smaller=[]\n",
    "for i in range(number):\n",
    "    if(array[i]<=maxnum):\n",
    "        smaller.append(array[i])\n",
    "print(smaller)\n"
   ]
  },
  {
   "cell_type": "code",
   "execution_count": null,
   "metadata": {},
   "outputs": [],
   "source": [
    "number=0\n",
    "print(\"Сколько элементов вы хотите? \")\n",
    "number=int(input())\n",
    "\n",
    "array=[]\n",
    "i0=0\n",
    "i1=1\n",
    "i2=0\n",
    "for i in range(0,2):\n",
    "    array.append(i)\n",
    "for i in range(number+1):\n",
    "    i2=i0+i1\n",
    "    array.append(i2)\n",
    "    i0=i1\n",
    "    i1=i2\n",
    "print(array)\n"
   ]
  },
  {
   "cell_type": "code",
   "execution_count": null,
   "metadata": {},
   "outputs": [],
   "source": [
    "def IntOrNot(n):\n",
    "    return int(n) == float(n)\n",
    "\n",
    "number=0\n",
    "print(\"Введите ваше число\")\n",
    "number=int(input())\n",
    "divided=0\n",
    "flag=0\n",
    "for i in range(2, number):\n",
    "    if(i!=0):\n",
    "        divided=number/i\n",
    "    if(IntOrNot(divided)==True):\n",
    "        flag=1\n",
    "if(flag==1):\n",
    "    print(\"Нет, оно не простое\")\n",
    "else:\n",
    "    print(\"Это число простое!\")"
   ]
  },
  {
   "cell_type": "code",
   "execution_count": null,
   "metadata": {},
   "outputs": [],
   "source": []
  },
  {
   "cell_type": "code",
   "execution_count": null,
   "metadata": {},
   "outputs": [],
   "source": []
  }
 ],
 "metadata": {
  "kernelspec": {
   "display_name": "Python 3",
   "language": "python",
   "name": "python3"
  },
  "language_info": {
   "codemirror_mode": {
    "name": "ipython",
    "version": 3
   },
   "file_extension": ".py",
   "mimetype": "text/x-python",
   "name": "python",
   "nbconvert_exporter": "python",
   "pygments_lexer": "ipython3",
   "version": "3.7.3"
  }
 },
 "nbformat": 4,
 "nbformat_minor": 2
}
